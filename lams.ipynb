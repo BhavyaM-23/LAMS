{
  "nbformat": 4,
  "nbformat_minor": 0,
  "metadata": {
    "colab": {
      "name": "lams.ipynb",
      "private_outputs": true,
      "provenance": [],
      "collapsed_sections": []
    },
    "kernelspec": {
      "name": "python3",
      "display_name": "Python 3"
    },
    "language_info": {
      "name": "python"
    },
    "accelerator": "GPU"
  },
  "cells": [
    {
      "cell_type": "markdown",
      "source": [
        "# **LAMS Local Air Pollution Monitoring System**\n",
        "Particulate pollution estimation from an input image."
      ],
      "metadata": {
        "id": "A_s8pEq1b-eY"
      }
    },
    {
      "cell_type": "markdown",
      "source": [
        "**Loading the Dataset**\n",
        "Image data is collected from the surroundings of the College\n",
        "Data labeling is done using the date of the image captured and the corresponding AQI value is obtained from the AP Pollution board website\n",
        "https://pcb.ap.gov.in/UI/AmbientAirQualityMonitoringData.aspx"
      ],
      "metadata": {
        "id": "A0mPGB_7bNcq"
      }
    },
    {
      "cell_type": "code",
      "execution_count": null,
      "metadata": {
        "id": "S-R9dCTEO-s1"
      },
      "outputs": [],
      "source": [
        "!git clone https://github.com/BhavyaM-23/sky"
      ]
    },
    {
      "cell_type": "code",
      "source": [
        "!pip install ktrain"
      ],
      "metadata": {
        "id": "PQj-m8PzPTDZ"
      },
      "execution_count": null,
      "outputs": []
    },
    {
      "cell_type": "code",
      "source": [
        "%matplotlib inline\n",
        "import os\n",
        "import ktrain\n",
        "from ktrain import vision as vis"
      ],
      "metadata": {
        "id": "9ReyaTUQPX9W"
      },
      "execution_count": null,
      "outputs": []
    },
    {
      "cell_type": "code",
      "source": [
        "import re\n",
        "pattern=r'([^/]+)_\\d+.jpg$'\n",
        "p=re.compile(pattern)\n",
        "r=p.search('33_20211120131613.jpg')\n",
        "print(r.group(1))"
      ],
      "metadata": {
        "id": "CJzmJgcORKJR"
      },
      "execution_count": null,
      "outputs": []
    },
    {
      "cell_type": "code",
      "source": [
        "DATADIR='/content/sky'\n",
        "dir=os.listdir(DATADIR)\n",
        "act=[]\n",
        "dir.remove('.git')\n",
        "dir.remove('.ipynb_checkpoints')\n",
        "for file in dir:\n",
        "  print(file)\n",
        "  r=p.search(file)\n",
        "  act.append(int(r.group(1)))\n",
        "print(act)"
      ],
      "metadata": {
        "id": "3M_SzRWkS1eJ"
      },
      "execution_count": null,
      "outputs": []
    },
    {
      "cell_type": "code",
      "source": [
        "(train_data,test_data,preproc)=vis.images_from_fname(DATADIR,pattern=pattern,is_regression=True,random_state=42)"
      ],
      "metadata": {
        "id": "Qd6ea2fwS9n7"
      },
      "execution_count": null,
      "outputs": []
    },
    {
      "cell_type": "code",
      "source": [
        "vis.print_image_regression_models()"
      ],
      "metadata": {
        "id": "NqUBlmi5TwJY"
      },
      "execution_count": null,
      "outputs": []
    },
    {
      "cell_type": "markdown",
      "source": [
        "**RESNET-50 pretrained model is used**"
      ],
      "metadata": {
        "id": "GrHZM1N9a9Je"
      }
    },
    {
      "cell_type": "code",
      "source": [
        "model=vis.image_regression_model('pretrained_resnet50',train_data=train_data,val_data=test_data)"
      ],
      "metadata": {
        "id": "_FbeDT8eT3rE"
      },
      "execution_count": null,
      "outputs": []
    },
    {
      "cell_type": "code",
      "source": [
        "learner=ktrain.get_learner(model=model,train_data=train_data,val_data=test_data,batch_size=10)"
      ],
      "metadata": {
        "id": "zcMNmk5SUbF8"
      },
      "execution_count": null,
      "outputs": []
    },
    {
      "cell_type": "code",
      "source": [
        "#learning rate=1e-4"
      ],
      "metadata": {
        "id": "6hpT7w9HU8-7"
      },
      "execution_count": null,
      "outputs": []
    },
    {
      "cell_type": "code",
      "source": [
        "learner.fit_onecycle(1e-4,15)"
      ],
      "metadata": {
        "id": "1rT3Jn-QVDs8"
      },
      "execution_count": null,
      "outputs": []
    },
    {
      "cell_type": "code",
      "source": [
        "#learner.freeze(15)\n",
        "#learner.fit_onecycle(1e-4,3)"
      ],
      "metadata": {
        "id": "DERcCWeLVkMR"
      },
      "execution_count": null,
      "outputs": []
    },
    {
      "cell_type": "code",
      "source": [
        "learner.model.summary()"
      ],
      "metadata": {
        "id": "_Kq9uJ79x-jj"
      },
      "execution_count": null,
      "outputs": []
    },
    {
      "cell_type": "code",
      "source": [
        "predictor=ktrain.get_predictor(learner.model,preproc)"
      ],
      "metadata": {
        "id": "gzYcRVC6Y388"
      },
      "execution_count": null,
      "outputs": []
    },
    {
      "cell_type": "code",
      "source": [
        "test_data.filenames"
      ],
      "metadata": {
        "id": "jTAmznflZKUg"
      },
      "execution_count": null,
      "outputs": []
    },
    {
      "cell_type": "markdown",
      "source": [
        "**Sample Prediction**"
      ],
      "metadata": {
        "id": "H-0Q0PJ4ctsm"
      }
    },
    {
      "cell_type": "code",
      "source": [
        "def show_prediction(fname):\n",
        "  fname=DATADIR+'/'+fname\n",
        "  pred=round(predictor.predict_filename(fname)[0])\n",
        "  actual=int(p.search(fname).group(1))\n",
        "  vis.show_image(fname)\n",
        "  print(\"Predicted AQI: %s | Actual AQI: %s\"%(pred,actual))"
      ],
      "metadata": {
        "id": "iCbYHEARZUlW"
      },
      "execution_count": null,
      "outputs": []
    },
    {
      "cell_type": "code",
      "source": [
        "show_prediction('33_2007002478.jpg')"
      ],
      "metadata": {
        "id": "OjvC9t40ahMQ"
      },
      "execution_count": null,
      "outputs": []
    },
    {
      "cell_type": "markdown",
      "source": [
        "**Saving the model**"
      ],
      "metadata": {
        "id": "fqMRlFgAazjF"
      }
    },
    {
      "cell_type": "code",
      "source": [
        "from tensorflow import keras\n",
        "\n",
        "kf=\"m1.h5\"\n",
        "keras.models.save_model(learner.model,kf)"
      ],
      "metadata": {
        "id": "4FIssZmw05Fk"
      },
      "execution_count": null,
      "outputs": []
    },
    {
      "cell_type": "code",
      "source": [
        "import tensorflow as tf\n",
        "conv=tf.lite.TFLiteConverter.from_keras_model(learner.model)\n",
        "tf=conv.convert()\n",
        "open(\"aqi.tflite\",\"wb\").write(tf)"
      ],
      "metadata": {
        "id": "FF_pLlZM1jH7"
      },
      "execution_count": null,
      "outputs": []
    },
    {
      "cell_type": "code",
      "source": [
        "predictor.predict_filename('/content/sky/37_20210725175039.jpg')[0]"
      ],
      "metadata": {
        "id": "fMP4wrN9EMYK"
      },
      "execution_count": null,
      "outputs": []
    },
    {
      "cell_type": "code",
      "source": [
        "val=[]\n",
        "for f in dir:\n",
        "  val.append(int(predictor.predict_filename(DATADIR+'/'+f)[0]))\n",
        "print(val)"
      ],
      "metadata": {
        "id": "3xVOOvW5WxSW"
      },
      "execution_count": null,
      "outputs": []
    },
    {
      "cell_type": "code",
      "source": [
        "print(act)"
      ],
      "metadata": {
        "id": "9NYo_3mMYer5"
      },
      "execution_count": null,
      "outputs": []
    },
    {
      "cell_type": "markdown",
      "source": [
        "**Error rate**"
      ],
      "metadata": {
        "id": "_f0iFjEQapzM"
      }
    },
    {
      "cell_type": "code",
      "source": [
        "eff=[]\n",
        "for i in range(len(act)):\n",
        "  x=abs(act[i]-val[i])/act[i]\n",
        "  eff.append(x)\n",
        "print(sum(eff)/len(eff))"
      ],
      "metadata": {
        "id": "CEMQvGeUZyLQ"
      },
      "execution_count": null,
      "outputs": []
    }
  ]
}